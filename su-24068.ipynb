{
 "cells": [
  {
   "cell_type": "markdown",
   "id": "ad667988",
   "metadata": {},
   "source": [
    "Write a code to find the degree of each vertex, and store it in a dictionary. Sort the keys of the dictionary by the degree stored in the values.\n"
   ]
  },
  {
   "cell_type": "code",
   "execution_count": 2,
   "id": "a6e38d14",
   "metadata": {},
   "outputs": [
    {
     "name": "stdout",
     "output_type": "stream",
     "text": [
      "{'B': 1, 'C': 1, 'E': 1, 'D': 2, 'A': 3}\n"
     ]
    }
   ],
   "source": [
    "\n",
    "\n",
    "# Function to find the degree of each node and return them sorted by degree\n",
    "def finddeg(dict):\n",
    "    newd = {}     # To store degree of each node\n",
    "    sortedd = {}  # To store sorted result\n",
    "\n",
    "    # Count connections (degree) for each node\n",
    "    for i in dict.keys():\n",
    "        newd[i] = len(dict[i])\n",
    "\n",
    "    lst = []    # List of nodes\n",
    "    lst2 = []   # List of degrees\n",
    "\n",
    "    # Prepare node and degree lists\n",
    "    for i in newd.keys():\n",
    "        lst.append(i)\n",
    "        lst2.append(newd[i])\n",
    "\n",
    "    # Sort nodes by their degree (using bubble sort)\n",
    "    for i in range(len(lst2)):\n",
    "        for j in range(len(lst2) - 1):\n",
    "            if lst2[j] > lst2[j + 1]:\n",
    "                lst2[j], lst2[j + 1] = lst2[j + 1], lst2[j]\n",
    "                lst[j], lst[j + 1] = lst[j + 1], lst[j]\n",
    "\n",
    "    # Build sorted dictionary\n",
    "    for i in range(len(lst)):\n",
    "        sortedd[lst[i]] = lst2[i]\n",
    "\n",
    "    return sortedd\n",
    "\n",
    "# Sample graph\n",
    "graph = {'A': ['B', 'C', 'D'],'B': ['A'],'C': ['A'],'D': ['A', 'E'],'E': ['D']}\n",
    "\n",
    "print(finddeg(graph))\n"
   ]
  },
  {
   "cell_type": "markdown",
   "id": "0e903d7e",
   "metadata": {},
   "source": [
    "Write a code to inter-convert the 3 graph representations we have learnt."
   ]
  },
  {
   "cell_type": "code",
   "execution_count": null,
   "id": "359c4ebb",
   "metadata": {},
   "outputs": [],
   "source": [
    "# Convert Adjacency List to Edge List\n",
    "def adjlst_edlst(adjlst):\n",
    "    edlst = []\n",
    "    for u in adjlst:\n",
    "        for v in adjlst[u]:\n",
    "            # Avoid adding duplicate edges (for undirected graph)\n",
    "            if [v, u] not in edlst and [u, v] not in edlst:\n",
    "                edlst.append([u, v])\n",
    "    return edlst\n",
    "\n",
    "\n",
    "# Convert Adjacency List to Adjacency Matrix\n",
    "def adjlst_mat(adjlst):\n",
    "    nd = list(adjlst.keys())  # List of nodes\n",
    "    n = len(nd)\n",
    "    mat = []  # Final matrix\n",
    "\n",
    "    for i in range(n):\n",
    "        row = []\n",
    "        for j in range(n):\n",
    "            # If there's a connection, add 1 else 0\n",
    "            if nd[j] in adjlst[nd[i]]:\n",
    "                row.append(1)\n",
    "            else:\n",
    "                row.append(0)\n",
    "        mat.append(row)\n",
    "\n",
    "    return nd, mat  # Return node list and matrix\n"
   ]
  },
  {
   "cell_type": "markdown",
   "id": "94fe9ec2",
   "metadata": {},
   "source": [
    "Given a graph and two vertices, check if they are adjacent. \n"
   ]
  },
  {
   "cell_type": "code",
   "execution_count": null,
   "id": "c33523d4",
   "metadata": {},
   "outputs": [],
   "source": [
    "# Check if there is an edge between node u and node v\n",
    "def adj(adjlst, u, v):\n",
    "    if u in adjlst:  # Check if node u exists in the adjacency list\n",
    "        if v in adjlst[u]:  # Check if v is connected to u\n",
    "            return True\n",
    "    return False  # Return False if no edge exists\n"
   ]
  },
  {
   "cell_type": "markdown",
   "id": "d9857ee1",
   "metadata": {},
   "source": [
    "Check if a graph is complete.\n"
   ]
  },
  {
   "cell_type": "code",
   "execution_count": null,
   "id": "f5fd0e7c",
   "metadata": {},
   "outputs": [],
   "source": [
    "# Check if the graph is a complete graph (every node connected to every other node)\n",
    "def complete(adjlst):\n",
    "    nd = []\n",
    "    for key in adjlst:\n",
    "        nd.append(key)  # Collect all node names\n",
    "    n = len(nd)\n",
    "\n",
    "    for node in adjlst:\n",
    "        if len(adjlst[node]) != n - 1:  # In a complete graph, each node should be connected to n-1 nodes\n",
    "            return False\n",
    "    return True  # If all nodes have n-1 connections, it's a complete graph\n"
   ]
  },
  {
   "cell_type": "markdown",
   "id": "50dcd48e",
   "metadata": {},
   "source": [
    "This program checks if a graph is connected using a simple method"
   ]
  },
  {
   "cell_type": "code",
   "execution_count": null,
   "id": "34d47538",
   "metadata": {},
   "outputs": [],
   "source": [
    "# Function to check if the graph is connected\n",
    "def is_connected(graph):\n",
    "    visited = []   # List to keep track of visited nodes\n",
    "    que = []       # Queue for BFS traversal\n",
    "\n",
    "    # Start from the first node in the graph\n",
    "    start_node = list(graph.keys())[0]\n",
    "    visited.append(start_node)\n",
    "    que.append(start_node)\n",
    "\n",
    "    # Perform BFS to visit all reachable nodes\n",
    "    while que:\n",
    "        current = que.pop(0)  # Remove the first node from queue\n",
    "        for neighbor in graph[current]:\n",
    "            if neighbor not in visited:\n",
    "                visited.append(neighbor)\n",
    "                que.append(neighbor)\n",
    "\n",
    "    # If all nodes are visited, the graph is connected\n",
    "    if len(visited) == len(graph):\n",
    "        return True\n",
    "    else:\n",
    "        return False\n",
    "\n"
   ]
  },
  {
   "cell_type": "markdown",
   "id": "10294b5b",
   "metadata": {},
   "source": [
    "Function to check if the given list is a walk, trail, or path"
   ]
  },
  {
   "cell_type": "code",
   "execution_count": null,
   "id": "cf1a4979",
   "metadata": {},
   "outputs": [],
   "source": [
    "def check_walk_type(adj, lst):\n",
    "    used_ed = []     # Stores visited edges\n",
    "    visited_nd = []  # Stores visited nodes\n",
    "\n",
    "    for i in range(len(lst) - 1):\n",
    "        nd1 = lst[i]\n",
    "        nd2 = lst[i + 1]\n",
    "\n",
    "        # Check if nd1 is in the graph\n",
    "        if nd1 not in adj:\n",
    "            return \"None of these\"\n",
    "\n",
    "        # Check if nd2 is connected to nd1\n",
    "        if nd2 not in adj[nd1]:\n",
    "            return \"None of these\"\n",
    "\n",
    "        # Save the edge in both directions (since undirected)\n",
    "        ed1 = [nd1, nd2]\n",
    "        ed2 = [nd2, nd1]\n",
    "\n",
    "        # Add edge only if it's not already visited\n",
    "        if ed1 not in used_ed and ed2 not in used_ed:\n",
    "            used_ed.append(ed1)\n",
    "\n",
    "        # Add node to visited list\n",
    "        visited_nd.append(nd1)\n",
    "\n",
    "    # Add the last node\n",
    "    visited_nd.append(lst[-1])\n",
    "\n",
    "    total_ed = len(lst) - 1\n",
    "\n",
    "    # Check for path: all nodes are unique and all edges are unique\n",
    "    if len(set(lst)) == len(lst) and len(used_ed) == total_ed:\n",
    "        return \"It is a path\"\n",
    "\n",
    "    # Check for trail: all edges are unique but nodes can repeat\n",
    "    elif len(used_ed) == total_ed:\n",
    "        return \"It is a trail\"\n",
    "\n",
    "    # If connected but with repeated edges\n",
    "    else:\n",
    "        return \"It is a walk\"\n",
    "adj_dict = {'A': ['B', 'C'],'B': ['A', 'D'],'C': ['A'],'D': ['B']}\n",
    "lst = ['A', 'B', 'D', 'B', 'A'] \n",
    "check_walk_type(adj_dict, lst)"
   ]
  },
  {
   "cell_type": "markdown",
   "id": "66b20561",
   "metadata": {},
   "source": [
    "Check if a given graph is a tree."
   ]
  },
  {
   "cell_type": "code",
   "execution_count": 1,
   "id": "0b0f8360",
   "metadata": {},
   "outputs": [
    {
     "name": "stdout",
     "output_type": "stream",
     "text": [
      "Yes, this is a tree.\n"
     ]
    }
   ],
   "source": [
    "def is_tree(gph):\n",
    "    vis = []         # List to keep visited nodes\n",
    "    ed_lst = []      # List to store counted edges\n",
    "\n",
    "    nd_lst = list(gph.keys())\n",
    "    to_visit = [nd_lst[0]]  # Start from the first node\n",
    "\n",
    "    while to_visit:\n",
    "        curr_nd = to_visit.pop()\n",
    "        if curr_nd not in vis:\n",
    "            vis.append(curr_nd)\n",
    "            for nbr in gph[curr_nd]:\n",
    "                to_visit.append(nbr)\n",
    "\n",
    "    # Count all unique edges (undirected)\n",
    "    for nd in gph:\n",
    "        for conn in gph[nd]:\n",
    "            ed1 = [nd, conn]\n",
    "            ed2 = [conn, nd]\n",
    "            if ed2 not in ed_lst:\n",
    "                ed_lst.append(ed1)\n",
    "\n",
    "    total_nd = len(gph)\n",
    "    total_ed = len(ed_lst)\n",
    "\n",
    "    # A tree must be connected and have (nodes - 1) edges\n",
    "    if len(vis) == total_nd and total_ed == total_nd - 1:\n",
    "        print(\"Yes, this is a tree.\")\n",
    "    else:\n",
    "        print(\"No, this is not a tree.\")\n",
    "\n",
    "gph_data = {'A': ['B'],'B': ['A', 'C'],'C': ['B', 'D'],'D': ['C']}\n",
    "\n",
    "is_tree(gph_data)\n"
   ]
  },
  {
   "cell_type": "markdown",
   "id": "367a52c9",
   "metadata": {},
   "source": [
    "Given a connected cyclic graph, find its spanning tree."
   ]
  },
  {
   "cell_type": "code",
   "execution_count": null,
   "id": "d99ace4f",
   "metadata": {},
   "outputs": [],
   "source": []
  },
  {
   "cell_type": "markdown",
   "id": "e8f3ee40",
   "metadata": {},
   "source": [
    "Given a tree, find the number of leaf nodes."
   ]
  },
  {
   "cell_type": "code",
   "execution_count": null,
   "id": "3ac7caa8",
   "metadata": {},
   "outputs": [],
   "source": [
    "def find_leaf_nodes(gph):\n",
    "    leaf_lst = []  # List to store leaf nodes\n",
    "\n",
    "    for nd in gph:\n",
    "        # A leaf node has only one connection\n",
    "        if len(gph[nd]) == 1:\n",
    "            leaf_lst.append(nd)\n",
    "\n",
    "    return leaf_lst\n",
    "find_leaf_nodes({'A': ['B'],'B': ['A', 'C', 'D'],'C': ['B'],'D': ['B', 'E', 'F'],'E': ['D'],'F': ['D']})\n"
   ]
  },
  {
   "cell_type": "markdown",
   "id": "9e1552f2",
   "metadata": {},
   "source": [
    "Given a tree, check if it's a binary tree.\n"
   ]
  },
  {
   "cell_type": "code",
   "execution_count": null,
   "id": "f015253c",
   "metadata": {},
   "outputs": [],
   "source": [
    "def check_binary_tree(gph):\n",
    "    keys = list(gph.keys())\n",
    "    root = keys[0]       # Let's take the first node as root\n",
    "    for nd in keys:\n",
    "        links = gph[nd]  # Connections of the current node\n",
    "        cnt = len(links)\n",
    "\n",
    "        # Root node can have max 2 connections (2 children)\n",
    "        if nd == root:\n",
    "            if cnt > 2:\n",
    "                return \"Not a binary tree\"\n",
    "        else:\n",
    "            # Other nodes can have max 3 (1 parent + 2 children)\n",
    "            if cnt > 3:\n",
    "                return \"Not a binary tree\"\n",
    "    return \"Yes, it's a binary tree\"\n",
    "\n",
    "# Sample graph (Tree) 1: Valid binary tree\n",
    "gph1 = {'X': ['Y', 'Z'],'Y': ['X', 'P', 'Q'],'Z': ['X'],'P': ['Y'],'Q': ['Y']}\n",
    "\n",
    "\n",
    "\n",
    "print(\"Graph:\", check_binary_tree(gph1))\n",
    "\n"
   ]
  },
  {
   "cell_type": "markdown",
   "id": "15e47680",
   "metadata": {},
   "source": [
    "Given a tree and a node, find its height."
   ]
  },
  {
   "cell_type": "code",
   "execution_count": null,
   "id": "d3b0e079",
   "metadata": {},
   "outputs": [],
   "source": [
    "def tree_height(tree_graph):\n",
    "    def find_height(current_node, parent_node):\n",
    "        max_height = 0\n",
    "        for neighbor in tree_graph[current_node]:\n",
    "            if neighbor != parent_node:\n",
    "                child_height = find_height(neighbor, current_node)\n",
    "                if child_height > max_height:\n",
    "                    max_height = child_height\n",
    "        return max_height + 1\n",
    "\n",
    "    # Choose first node as the root of the tree\n",
    "    node_list = list(tree_graph.keys())\n",
    "    root_node = node_list[0]\n",
    "\n",
    "    # Calculate height starting from the root\n",
    "    height = find_height(root_node, None) - 1  # Subtract 1 to count edges, not nodes\n",
    "    return height\n",
    "tree_height({'A': ['B', 'C'],'B': ['A', 'D'],'C': ['A'],'D': ['B']})"
   ]
  },
  {
   "cell_type": "markdown",
   "id": "135702ef",
   "metadata": {},
   "source": [
    "Given a tree and a node, find its depth."
   ]
  },
  {
   "cell_type": "code",
   "execution_count": null,
   "id": "efd75b16",
   "metadata": {},
   "outputs": [],
   "source": [
    "def tree_depth(tree_graph):\n",
    "    def find_depth(current_node, parent_node):\n",
    "        max_depth_found = 0\n",
    "        for neighbor in tree_graph[current_node]:\n",
    "            if neighbor != parent_node:\n",
    "                child_depth = find_depth(neighbor, current_node)\n",
    "                if child_depth > max_depth_found:\n",
    "                    max_depth_found = child_depth\n",
    "        return max_depth_found + 1\n",
    "    node_list = list(tree_graph.keys())\n",
    "    root_node = node_list[0]\n",
    "\n",
    "    # Calculate depth starting from the root\n",
    "    depth = find_depth(root_node, None) - 1  # Subtract 1 to count edges instead of nodes\n",
    "    return depth\n",
    "\n",
    "tree_depth({'A': ['B', 'C'],'B': ['A', 'D'],'C': ['A'],'D': ['B']})\n"
   ]
  }
 ],
 "metadata": {
  "kernelspec": {
   "display_name": "Python 3",
   "language": "python",
   "name": "python3"
  },
  "language_info": {
   "codemirror_mode": {
    "name": "ipython",
    "version": 3
   },
   "file_extension": ".py",
   "mimetype": "text/x-python",
   "name": "python",
   "nbconvert_exporter": "python",
   "pygments_lexer": "ipython3",
   "version": "3.13.2"
  }
 },
 "nbformat": 4,
 "nbformat_minor": 5
}
